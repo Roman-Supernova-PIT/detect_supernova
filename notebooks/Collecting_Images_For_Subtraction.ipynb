{
 "cells": [
  {
   "cell_type": "markdown",
   "id": "c51f40f7-eb5c-45d7-88a0-4ecd03aeb661",
   "metadata": {},
   "source": [
    "# Collecting Images For Subtraction\n",
    "\n",
    "This notebooks demonstrates how to collect template images and science images from [Rob's database](https://github.com/Roman-Supernova-PIT/roman-desc-simdex/blob/main/documentation.ipynb) for image subtraction. A detailed approach to searh Roman simulated images can be found [here](https://github.com/Roman-Supernova-PIT/roman-desc-simdex/blob/main/documentation.ipynb)."
   ]
  },
  {
   "cell_type": "code",
   "execution_count": null,
   "id": "68e9d4c9-7892-46e7-a802-1721b4811b85",
   "metadata": {},
   "outputs": [],
   "source": [
    "from collections import defaultdict\n",
    "\n",
    "import requests\n",
    "import pandas as pd\n",
    "\n",
    "import numpy as np\n",
    "\n",
    "from astropy.io import fits\n",
    "from astropy.table import Table\n",
    "from astropy.wcs import WCS\n",
    "\n",
    "from astropy.coordinates import SkyCoord\n",
    "from astropy.wcs.utils import skycoord_to_pixel\n",
    "\n",
    "def get_sne(z_cmb_min=0.15, z_cmb_max=0.16):\n",
    "    server_url = 'https://roman-desc-simdex.lbl.gov'\n",
    "    req = requests.Session()\n",
    "    result = req.post( f'{server_url}/findtransients/z_cmb_min={z_cmb_min}/z_cmb_max={z_cmb_max}/gentype=10',\n",
    "                         json={ 'fields': ('id', 'ra', 'dec', 'z_cmb',  ) } ) # 'host_sn_sep' 'peak_mjd', 'peak_mag_g', 'model_name'\n",
    "    if result.status_code != 200:\n",
    "        raise RuntimeError( f\"Got status code {result.status_code}\\n{result.text}\" )\n",
    "    df = pd.DataFrame( result.json() )\n",
    "    return df\n",
    "\n",
    "def get_image_info_for_ra_dec(ra, dec, band=None):\n",
    "    server_url = 'https://roman-desc-simdex.lbl.gov'\n",
    "    req = requests.Session()\n",
    "    json = { 'containing': [ ra, dec ] }\n",
    "    if band is not None:\n",
    "        json['filter'] = band  # 'filter' is reserved in Python, so we use 'band' for var name\n",
    "    result = req.post( f'{server_url}/findromanimages', json=json )\n",
    "    if result.status_code != 200:\n",
    "        raise RuntimeError( f\"Got status code {result.status_code}\\n{result.text}\" )\n",
    "    df = pd.DataFrame( result.json() )\n",
    "    return df\n",
    "\n",
    "# This function doesn't work because we don't get access to BaseView.\n",
    "def get_image_info_for_pointing(pointing):\n",
    "    server_url = 'https://roman-desc-simdex.lbl.gov'\n",
    "    req = requests.Session()\n",
    "    json = { 'pointing': pointing }\n",
    "    result = req.post( f'{server_url}/baseview', json=json )\n",
    "    if result.status_code != 200:\n",
    "        raise RuntimeError( f\"Got status code {result.status_code}\\n{result.text}\" )\n",
    "    df = pd.DataFrame( result.json() )\n",
    "    return df\n",
    "\n",
    "def load_wcs(image_path, hdu_id=0):\n",
    "    with fits.open(image_path) as hdul:\n",
    "        header = hdul[hdu_id].header\n",
    "        wcs = WCS(header)\n",
    "    return wcs\n",
    "\n",
    "def load_table(table_path):\n",
    "    table = Table.read(table_path, format='ascii').to_pandas()\n",
    "    return table\n",
    "\n",
    "def radec_to_xy(ra, dec, wcs, origin=0):\n",
    "    # ra and dec are in degree unit\n",
    "    sky_coord = SkyCoord(ra, dec, frame='icrs', unit='deg')\n",
    "    pixel_coords = skycoord_to_pixel(coords=sky_coord, wcs=wcs, origin=origin)\n",
    "    return pixel_coords[0], pixel_coords[1]\n",
    "\n",
    "def xy_in_image(x, y, width, height, offset=0):\n",
    "    return (0 + offset <= x) & (x < width - offset) & (0 + offset <= y) & (y < height - offset)"
   ]
  },
  {
   "cell_type": "markdown",
   "id": "4824afa4-21d5-43c7-ad55-2b104ca1b690",
   "metadata": {},
   "source": [
    "## Get information of SNe"
   ]
  },
  {
   "cell_type": "code",
   "execution_count": null,
   "id": "0a2ff008-a8ca-4018-a448-da27138c76af",
   "metadata": {},
   "outputs": [],
   "source": [
    "sne = get_sne(z_cmb_min=0.10, z_cmb_max=0.17)\n",
    "print(f'Found {len(sne)} SNe.')"
   ]
  },
  {
   "cell_type": "markdown",
   "id": "4b319dbb-89bd-4ac7-a73a-9d127fe16977",
   "metadata": {},
   "source": [
    "## Pick 1 SN"
   ]
  },
  {
   "cell_type": "code",
   "execution_count": null,
   "id": "de393595-1558-466c-b86a-56b0a7e6242e",
   "metadata": {},
   "outputs": [],
   "source": [
    "band = 'R062'\n",
    "\n",
    "for idx in range(len(sne)):\n",
    "    sn = sne.iloc[idx]\n",
    "    image_info = get_image_info_for_ra_dec(sn.ra, sn.dec, band=band)\n",
    "    image_info = image_info.sort_values(by=['mjd'])\n",
    "    # We need at least 11 images which cover the same sn.\n",
    "    # We use the first image as template, and the remaining as science images.\n",
    "    if len(image_info) < 11:\n",
    "        continue\n",
    "    break\n"
   ]
  },
  {
   "cell_type": "code",
   "execution_count": null,
   "id": "8e420fc5",
   "metadata": {},
   "outputs": [],
   "source": [
    "image_info"
   ]
  },
  {
   "cell_type": "markdown",
   "id": "5cbcefe6-12e2-4a63-9672-4d5980823d5e",
   "metadata": {},
   "source": [
    "We pick the first image as the template. For the science image, we select from the remaining images in reverse chronological order toward the template image. We require at least 50% of the truth in the template should exist in the science. This ensure both images cover enough overlapping region."
   ]
  },
  {
   "cell_type": "code",
   "execution_count": null,
   "id": "65f65680-9a88-46c7-b361-4ff16a2b9825",
   "metadata": {},
   "outputs": [],
   "source": [
    "INPUT_IMAGE_PATTERN = (\"/global/cfs/cdirs/lsst/shared/external/roman-desc-sims/Roman_data\"\n",
    "                                \"/RomanTDS/images/simple_model/{band}/{pointing}/Roman_TDS_simple_model_{band}_{pointing}_{sca}.fits.gz\")\n",
    "INPUT_TRUTH_PATTERN = (\"/global/cfs/cdirs/lsst/shared/external/roman-desc-sims/Roman_data\"\n",
    "                             \"/RomanTDS/truth/{band}/{pointing}/Roman_TDS_index_{band}_{pointing}_{sca}.txt\")\n",
    "\n",
    "MATCH_RADIUS = 0.4\n",
    "image_width =4088\n",
    "image_height = 4088\n",
    "\n",
    "selected_rows = []\n",
    "template_info = image_info.iloc[0]\n",
    "\n",
    "for i in range(len(image_info)-1, 0, -1):\n",
    "    science_info = image_info.iloc[i]\n",
    "    science_id = {'band': band, 'pointing': int(science_info['pointing']), 'sca': int(science_info['sca'])}\n",
    "    template_id = {'band': band, 'pointing': int(template_info['pointing']), 'sca': int(template_info['sca'])}\n",
    "\n",
    "    science_truth_path = INPUT_TRUTH_PATTERN.format(**science_id)                \n",
    "    science_truth = load_table(science_truth_path)\n",
    "\n",
    "    template_image_path = INPUT_IMAGE_PATTERN.format(**template_id)\n",
    "    template_wcs = load_wcs(template_image_path, hdu_id=1)\n",
    "\n",
    "    # Some sources from the truth table are not in the image. We need to remove them.\n",
    "    science_in_science = xy_in_image(science_truth.x, science_truth.y, width=image_width, height=image_height, offset=0)\n",
    "    science_truth = science_truth[science_in_science].copy().reset_index(drop=True)\n",
    "\n",
    "    x_in_template, y_in_template = radec_to_xy(science_truth.ra, science_truth.dec, template_wcs, origin=1)\n",
    "    science_in_template = xy_in_image(x_in_template, y_in_template, width=image_width, height=image_height, offset=0)\n",
    "    \n",
    "    if science_in_template.sum() / len(science_in_template) > 0.5:\n",
    "        selected_rows.append(i)\n",
    "    if len(selected_rows) == 10:\n",
    "        break"
   ]
  },
  {
   "cell_type": "code",
   "execution_count": null,
   "id": "85f01e26-6e67-4296-baa6-36a12412387b",
   "metadata": {},
   "outputs": [],
   "source": [
    "selected_rows.sort()\n",
    "selected_image_info = image_info.iloc[selected_rows]\n",
    "\n",
    "data_records = pd.DataFrame()\n",
    "data_records['template_band'] = [band] * 10\n",
    "data_records['template_pointing'] = [template_info.pointing] * 10\n",
    "data_records['template_sca'] = [template_info.sca] * 10\n",
    "# mjd is not required for running the detection pipeline\n",
    "data_records['template_mjd'] = [template_info.mjd] * 10\n",
    "data_records['science_band'] = [band] * 10\n",
    "data_records['science_pointing'] = selected_image_info.pointing.values\n",
    "data_records['science_sca'] = selected_image_info.sca.values\n",
    "data_records['science_mjd'] = selected_image_info.mjd.values\n",
    "data_records.to_csv('../test/test_ten_data_records.csv', index=False)"
   ]
  },
  {
   "cell_type": "markdown",
   "id": "1dbf6e22",
   "metadata": {},
   "source": [
    "# For a given image, find all of the matching images."
   ]
  },
  {
   "cell_type": "code",
   "execution_count": null,
   "id": "583cbf82-29b7-4c14-9db4-ec75288c0472",
   "metadata": {},
   "outputs": [],
   "source": [
    "def get_possible_template_images(im, min_points=3):\n",
    "    \"\"\"Return a list of matching images that could be used as templates.\n",
    "    \n",
    "    Returns all that overlap at least min_points of the 5 points of the center + corners of the images\n",
    "    and that matches in bandpass\n",
    "    \n",
    "    images: Object with get method for\n",
    "        (\"ra\", \"dec\", \"ra_00\", \"dec_00\", \"ra_01\", \"dec_01\", \"ra_10\", \"dec_10\", \"ra_11\", \"dec_11\", \"filter\")\n",
    "    min_points: int\n",
    "    \"\"\"\n",
    "    corners = [(im.ra_00, im.dec_00), (im.ra_01, im.dec_01), (im.ra_10, im.dec_10), (im.ra_11, im.dec_11)]\n",
    "    center = [(im.ra, im.dec)]\n",
    "    points = center + corners\n",
    "\n",
    "    band = im.get(\"filter\")  # 'filter' is method, so we can't use data attribute of same name to access\n",
    "\n",
    "    matches = defaultdict(list)\n",
    "    for i, (ra, dec) in enumerate(points):\n",
    "        matching_images = get_image_info(ra, dec, band=band)\n",
    "        for p, s, f in zip(matching_images.pointing, matching_images.sca, matching_images.get(\"filter\")):\n",
    "            matches[(p, s, f)].append(i)\n",
    "\n",
    "    good_matches = []\n",
    "    for k, v in matches.items():\n",
    "        if len(v) >= min_points:\n",
    "            good_matches.append(k)\n",
    "            \n",
    "    return good_matches"
   ]
  },
  {
   "cell_type": "code",
   "execution_count": null,
   "id": "a37081f9",
   "metadata": {},
   "outputs": [],
   "source": [
    "get_possible_template_images(im)"
   ]
  },
  {
   "cell_type": "code",
   "execution_count": null,
   "id": "7f592d4a",
   "metadata": {},
   "outputs": [],
   "source": [
    "# For one particular pointing, let's build up the match lists for all of the SCAs\n",
    "pointing = 8\n",
    "sca = range(18)\n",
    "band = \"R062\""
   ]
  },
  {
   "cell_type": "code",
   "execution_count": null,
   "id": "221906ab",
   "metadata": {},
   "outputs": [],
   "source": [
    "# Doesn't work because BaseView isn't exposed\n",
    "# get_image_info_for_pointing(pointing)"
   ]
  },
  {
   "cell_type": "code",
   "execution_count": null,
   "id": "18fd442b",
   "metadata": {},
   "outputs": [],
   "source": []
  }
 ],
 "metadata": {
  "kernelspec": {
   "display_name": "Python 3 (ipykernel)",
   "language": "python",
   "name": "python3"
  },
  "language_info": {
   "codemirror_mode": {
    "name": "ipython",
    "version": 3
   },
   "file_extension": ".py",
   "mimetype": "text/x-python",
   "name": "python",
   "nbconvert_exporter": "python",
   "pygments_lexer": "ipython3",
   "version": "3.11.10"
  }
 },
 "nbformat": 4,
 "nbformat_minor": 5
}
