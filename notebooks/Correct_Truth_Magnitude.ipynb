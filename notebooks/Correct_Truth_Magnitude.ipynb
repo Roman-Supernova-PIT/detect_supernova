{
 "cells": [
  {
   "cell_type": "markdown",
   "id": "459eefdb-9573-41dc-afcf-81b146f9e936",
   "metadata": {},
   "source": [
    "# Correct Truth Magnitude\n",
    "\n",
    "This notebook demonstrates how to correct the magnitude from truth table.\n",
    "\n",
    "Reference: [How do I zeropoint the OpenUniverse sims?](https://github.com/Roman-Supernova-PIT/Roman-Supernova-PIT/wiki/Lauren's-FAQ)"
   ]
  },
  {
   "cell_type": "code",
   "execution_count": 5,
   "id": "98027b43-e96e-44dd-ba35-cb0cf117a639",
   "metadata": {},
   "outputs": [],
   "source": [
    "import numpy as np\n",
    "\n",
    "def correct_truth_mag(mag, band):\n",
    "    \"\"\"\n",
    "    Convert mag from Roman truth table to zero-pointed truth mag.\n",
    "    \n",
    "    AREA_EFF is obtained through the following code.\n",
    "        from galsim import roman\n",
    "        roman.collecting_area\n",
    "    \"\"\"\n",
    "\n",
    "    AREA_EFF = 37570.0\n",
    "    EXPTIME = {'F184': 901.175,\n",
    "               'J129': 302.275,\n",
    "               'H158': 302.275,\n",
    "               'K213': 901.175,\n",
    "               'R062': 161.025,\n",
    "               'Y106': 302.275,\n",
    "               'Z087': 101.7}\n",
    "\n",
    "    zpt_mag = 2.5 * np.log10(EXPTIME[band] * AREA_EFF)\n",
    "    zeropointed_truth_mag = mag + zpt_mag\n",
    "    return zeropointed_truth_mag"
   ]
  },
  {
   "cell_type": "markdown",
   "id": "f9caffc1-8483-4516-ae00-df336eb8f650",
   "metadata": {},
   "source": [
    "The zpt mag actually only depends on band."
   ]
  },
  {
   "cell_type": "code",
   "execution_count": 6,
   "id": "c9e49fb0-beb4-493e-b799-7e7da00e7ed8",
   "metadata": {},
   "outputs": [
    {
     "name": "stdout",
     "output_type": "stream",
     "text": [
      "F184:  18.824125825690057\n",
      "J129:  17.63810856226013\n",
      "H158:  17.63810856226013\n",
      "K213:  18.824125825690057\n",
      "R062:  16.954336257228334\n",
      "Y106:  17.63810856226013\n",
      "Z087:  16.455405369965323\n"
     ]
    }
   ],
   "source": [
    "AREA_EFF = 37570.0\n",
    "EXPTIME = {'F184': 901.175,\n",
    "           'J129': 302.275,\n",
    "           'H158': 302.275,\n",
    "           'K213': 901.175,\n",
    "           'R062': 161.025,\n",
    "           'Y106': 302.275,\n",
    "           'Z087': 101.7}\n",
    "\n",
    "for band, val in EXPTIME.items():\n",
    "    zpt_mag =  2.5 * np.log10(EXPTIME[band] * AREA_EFF)\n",
    "    print(f'{band}:  {zpt_mag}')"
   ]
  },
  {
   "cell_type": "code",
   "execution_count": null,
   "id": "1f13f3d5-d4b8-476d-8008-d78d6e10009d",
   "metadata": {},
   "outputs": [],
   "source": []
  }
 ],
 "metadata": {
  "kernelspec": {
   "display_name": "desc-stack-weekly-latest",
   "language": "python",
   "name": "desc-stack-weekly-latest"
  },
  "language_info": {
   "codemirror_mode": {
    "name": "ipython",
    "version": 3
   },
   "file_extension": ".py",
   "mimetype": "text/x-python",
   "name": "python",
   "nbconvert_exporter": "python",
   "pygments_lexer": "ipython3",
   "version": "3.12.9"
  }
 },
 "nbformat": 4,
 "nbformat_minor": 5
}
