{
 "cells": [
  {
   "cell_type": "markdown",
   "id": "5b7939ed-d7a7-4158-95cd-090d047171e6",
   "metadata": {},
   "source": [
    "# Evaluate Efficiency and Purity\n",
    "\n",
    "This notebook demonstrates how to evaluate efficiency and purity using the data products of the detection pipeline.\n",
    "\n",
    "Efficiency and puristy are defined as:\n",
    "\n",
    "- Efficiency (recall) = True Positives / (True Positives + False Negatives)\n",
    "\n",
    "- Purity (precision) = True Positives / (True Positives + False Positives)\n"
   ]
  },
  {
   "cell_type": "code",
   "execution_count": 1,
   "id": "c39096ae-84ae-4e67-a128-0059d531481f",
   "metadata": {},
   "outputs": [],
   "source": [
    "import os\n",
    "import numpy as np\n",
    "import pandas as pd\n",
    "import matplotlib.pyplot as plt"
   ]
  },
  {
   "cell_type": "code",
   "execution_count": 2,
   "id": "6be861a2-b008-48e6-96d4-e7e6337e582a",
   "metadata": {},
   "outputs": [],
   "source": [
    "data_records = pd.read_csv('../test/test_ten_data_records.csv')"
   ]
  },
  {
   "cell_type": "code",
   "execution_count": 3,
   "id": "2b1f70b3-c951-4edc-81d1-fe8d9c85a0be",
   "metadata": {},
   "outputs": [],
   "source": [
    "output_dir = '../../test_output' # output_dir of the detection\n",
    "DIFF_PATTERN = '{science_band}_{science_pointing}_{science_sca}_-_{template_band}_{template_pointing}_{template_sca}'\n",
    "\n",
    "\n",
    "full_transients_to_detection = pd.DataFrame()\n",
    "full_detection_to_transients = pd.DataFrame()\n",
    "\n",
    "for i, row in data_records.iterrows():\n",
    "    diff_pattern = DIFF_PATTERN.format(science_band=row['science_band'],\n",
    "                                   science_pointing=row['science_pointing'],\n",
    "                                   science_sca=row['science_sca'],\n",
    "                                   template_band=row['template_band'],\n",
    "                                   template_pointing=row['template_pointing'],\n",
    "                                   template_sca=row['template_sca'])\n",
    "    full_dir = os.path.join(output_dir, diff_pattern)\n",
    "    transients_to_detection_name = f'transients_to_detection_{diff_pattern}.csv'\n",
    "    detection_to_transients_name = f'detection_to_transients_{diff_pattern}.csv'\n",
    "\n",
    "    transients_to_detection_path = os.path.join(output_dir, diff_pattern, transients_to_detection_name)\n",
    "    detection_to_transients_path = os.path.join(output_dir, diff_pattern, detection_to_transients_name)\n",
    "\n",
    "    transients_to_detection = pd.read_csv(transients_to_detection_path)\n",
    "    detection_to_transients = pd.read_csv(detection_to_transients_path)\n",
    "    \n",
    "    full_transients_to_detection = pd.concat([full_transients_to_detection, transients_to_detection], ignore_index=True)\n",
    "    full_detection_to_transients = pd.concat([full_detection_to_transients, detection_to_transients], ignore_index=True)"
   ]
  },
  {
   "cell_type": "code",
   "execution_count": 4,
   "id": "7d4bd381-4cae-4e37-b0d1-b86d70513bd1",
   "metadata": {},
   "outputs": [
    {
     "name": "stdout",
     "output_type": "stream",
     "text": [
      "Efficiency: 0.068, Purity: 0.003\n"
     ]
    }
   ],
   "source": [
    "efficiency = full_transients_to_detection.matched_status.sum() / len(full_transients_to_detection)\n",
    "purity = full_detection_to_transients.matched_status.sum() / len(full_detection_to_transients)\n",
    "print(f'Efficiency: {efficiency:.3f}, Purity: {purity:.3f}')"
   ]
  },
  {
   "cell_type": "markdown",
   "id": "55f5df2c-980b-4e35-9e49-45e241fa5d3e",
   "metadata": {},
   "source": [
    "We also want to know the efficiency in each magnitude bin."
   ]
  },
  {
   "cell_type": "code",
   "execution_count": 5,
   "id": "a37822f7-f0fc-4bd2-b32e-6ba0458ec270",
   "metadata": {},
   "outputs": [
    {
     "name": "stderr",
     "output_type": "stream",
     "text": [
      "/tmp/ipykernel_209630/386904772.py:4: FutureWarning: The default of observed=False is deprecated and will be changed to True in a future version of pandas. Pass observed=False to retain current behavior or observed=True to adopt the future default and silence this warning.\n",
      "  effs = full_transients_to_detection.groupby('mag_bin')['matched_status'].agg(['sum', 'count']).reset_index()\n"
     ]
    },
    {
     "data": {
      "text/plain": [
       "Text(0, 0.5, 'Efficiency')"
      ]
     },
     "execution_count": 5,
     "metadata": {},
     "output_type": "execute_result"
    },
    {
     "data": {
      "image/png": "[encoded data removed]",
      "text/plain": [
       "<Figure size 640x480 with 1 Axes>"
      ]
     },
     "metadata": {},
     "output_type": "display_data"
    }
   ],
   "source": [
    "mag_bins = np.arange(np.floor(full_transients_to_detection.mag.min()), np.ceil(full_transients_to_detection.mag.max()) + 1, 1)\n",
    "mag_labels = mag_bins[:-1] + 0.5\n",
    "full_transients_to_detection['mag_bin'] = pd.cut(full_transients_to_detection.mag, bins=mag_bins, labels=mag_labels, include_lowest=True)\n",
    "effs = full_transients_to_detection.groupby('mag_bin')['matched_status'].agg(['sum', 'count']).reset_index()\n",
    "effs['efficiency'] = effs['sum'] / effs['count']\n",
    "plt.bar(effs['mag_bin'], effs['efficiency'], width=np.diff(mag_bins), align='edge')\n",
    "plt.xlabel('Magnitude')\n",
    "plt.ylabel('Efficiency')"
   ]
  },
  {
   "cell_type": "code",
   "execution_count": null,
   "id": "d106baee-2e23-4729-ab24-009b4860963f",
   "metadata": {},
   "outputs": [],
   "source": []
  }
 ],
 "metadata": {
  "kernelspec": {
   "display_name": "desc-stack-weekly-latest",
   "language": "python",
   "name": "desc-stack-weekly-latest"
  },
  "language_info": {
   "codemirror_mode": {
    "name": "ipython",
    "version": 3
   },
   "file_extension": ".py",
   "mimetype": "text/x-python",
   "name": "python",
   "nbconvert_exporter": "python",
   "pygments_lexer": "ipython3",
   "version": "3.11.7"
  }
 },
 "nbformat": 4,
 "nbformat_minor": 5
}
